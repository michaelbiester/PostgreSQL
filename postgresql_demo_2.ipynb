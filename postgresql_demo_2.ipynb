{
 "cells": [
  {
   "cell_type": "markdown",
   "metadata": {},
   "source": [
    "# Demo with psycopg3\n",
    "\n",
    "https://www.psycopg.org/psycopg3/\n",
    "\n",
    "\n",
    "**Note**\n",
    "\n",
    "Even if using installation of binary packages\n",
    "\n",
    "with `pip install psycopg[binary]`\n",
    "\n",
    "it does not work for Python 3.11.x (it does work for version 3.10.xx)"
   ]
  },
  {
   "cell_type": "code",
   "execution_count": 1,
   "metadata": {},
   "outputs": [],
   "source": [
    "import psycopg\n",
    "import psutil"
   ]
  },
  {
   "cell_type": "markdown",
   "metadata": {},
   "source": [
    "# Is database accessible ?\n",
    "\n",
    "check for running PostgreSQL service\n"
   ]
  },
  {
   "cell_type": "code",
   "execution_count": 2,
   "metadata": {},
   "outputs": [
    {
     "data": {
      "text/plain": [
       "{'display_name': 'postgresql-x64-14',\n",
       " 'binpath': '\"C:\\\\Program Files\\\\PostgreSQL\\\\14\\\\bin\\\\pg_ctl.exe\" runservice -N \"postgresql-x64-14\" -D \"C:\\\\Program Files\\\\PostgreSQL\\\\14\\\\data\" -w',\n",
       " 'username': 'NT AUTHORITY\\\\NetworkService',\n",
       " 'start_type': 'automatic',\n",
       " 'status': 'running',\n",
       " 'pid': 14148,\n",
       " 'name': 'postgresql-x64-14',\n",
       " 'description': 'Provides relational database storage.'}"
      ]
     },
     "execution_count": 2,
     "metadata": {},
     "output_type": "execute_result"
    }
   ],
   "source": [
    "# how to find those process we are interested in ?\n",
    "service = psutil.win_service_get('postgresql-x64-14')\n",
    "service_D = service.as_dict()\n",
    "service_D"
   ]
  },
  {
   "cell_type": "markdown",
   "metadata": {},
   "source": [
    "# Connecting to a PostgreSQL database\n",
    "\n",
    "the database is taken from the book `Practical SQL`\n",
    "\n",
    "https://www.practicalsql.com/\n",
    "\n",
    "database: analysis\n",
    "table: teachers\n",
    "data set: as provided in the book\n",
    "\n",
    "1) a connection is established and its properties are displayed\n",
    "\n",
    "2) from the connection object a *cursor* is retrieved. The cursor executes a simple `SELECT` statement\n",
    "\n",
    "3) the rows are fetched and displayed\n",
    "\n",
    "4) a row is inserted\n",
    "\n",
    "5) rows are fetched again and displayed \n",
    "\n",
    "6) the connection to the database is disconnected (the cursor is closed, and then the connection is closed too)\n"
   ]
  },
  {
   "cell_type": "code",
   "execution_count": 3,
   "metadata": {},
   "outputs": [
    {
     "data": {
      "text/plain": [
       "<psycopg.Connection [IDLE] (host=localhost user=postgres database=analysis) at 0x16b8c4ef370>"
      ]
     },
     "execution_count": 3,
     "metadata": {},
     "output_type": "execute_result"
    }
   ],
   "source": [
    "conn = psycopg.connect(dbname=\"analysis\", user=\"postgres\", password=\"waldheim55\", host=\"localhost\", port=\"5432\")\n",
    "conn"
   ]
  },
  {
   "cell_type": "code",
   "execution_count": 5,
   "metadata": {},
   "outputs": [
    {
     "data": {
      "text/plain": [
       "<psycopg.Cursor [TUPLES_OK] [INTRANS] (host=localhost user=postgres database=analysis) at 0x16b8c20f1c0>"
      ]
     },
     "execution_count": 5,
     "metadata": {},
     "output_type": "execute_result"
    }
   ],
   "source": [
    "cursor = conn.cursor()\n",
    "cursor.execute(\"SELECT * FROM teachers;\")"
   ]
  },
  {
   "cell_type": "code",
   "execution_count": 6,
   "metadata": {},
   "outputs": [
    {
     "data": {
      "text/plain": [
       "[(1,\n",
       "  'Janet',\n",
       "  'Smith',\n",
       "  'F.D. Roosevelt HS',\n",
       "  datetime.date(2011, 10, 30),\n",
       "  Decimal('36200')),\n",
       " (2,\n",
       "  'Lee',\n",
       "  'Reynolds',\n",
       "  'F.D. Roosevelt HS',\n",
       "  datetime.date(1993, 5, 22),\n",
       "  Decimal('65000')),\n",
       " (3,\n",
       "  'Samuel',\n",
       "  'Cole',\n",
       "  'Myers Middle School',\n",
       "  datetime.date(2005, 8, 1),\n",
       "  Decimal('43500')),\n",
       " (4,\n",
       "  'Samantha',\n",
       "  'Bush',\n",
       "  'Myers Middle School',\n",
       "  datetime.date(2011, 10, 30),\n",
       "  Decimal('36200')),\n",
       " (5,\n",
       "  'Betty',\n",
       "  'Diaz',\n",
       "  'Myers Middle School',\n",
       "  datetime.date(2005, 8, 30),\n",
       "  Decimal('43500')),\n",
       " (6,\n",
       "  'Kathleen',\n",
       "  'Roush',\n",
       "  'F.D. Roosevelt HS',\n",
       "  datetime.date(2010, 10, 22),\n",
       "  Decimal('38500')),\n",
       " (7,\n",
       "  'Jerry',\n",
       "  'Adams',\n",
       "  'Unknown School',\n",
       "  datetime.date(2012, 11, 22),\n",
       "  Decimal('56000')),\n",
       " (14,\n",
       "  'Jerry',\n",
       "  'Adams',\n",
       "  'Unknown School',\n",
       "  datetime.date(2012, 11, 22),\n",
       "  Decimal('56000')),\n",
       " (15,\n",
       "  'Jerry',\n",
       "  'Adams',\n",
       "  'Unknown School',\n",
       "  datetime.date(2012, 11, 22),\n",
       "  Decimal('56000')),\n",
       " (16,\n",
       "  'Jerry',\n",
       "  'Adams',\n",
       "  'Unknown School',\n",
       "  datetime.date(2012, 11, 22),\n",
       "  Decimal('56000')),\n",
       " (17,\n",
       "  'Jerry',\n",
       "  'Adams',\n",
       "  'Unknown School',\n",
       "  datetime.date(2012, 11, 22),\n",
       "  Decimal('56000')),\n",
       " (18,\n",
       "  'Jerry',\n",
       "  'Adams',\n",
       "  'Unknown School',\n",
       "  datetime.date(2012, 11, 22),\n",
       "  Decimal('56000')),\n",
       " (19,\n",
       "  'Jerry',\n",
       "  'Adams',\n",
       "  'Unknown School',\n",
       "  datetime.date(2012, 11, 22),\n",
       "  Decimal('56000')),\n",
       " (20,\n",
       "  'Jerry',\n",
       "  'Adams',\n",
       "  'Unknown School',\n",
       "  datetime.date(2012, 11, 22),\n",
       "  Decimal('56000')),\n",
       " (21,\n",
       "  'Jerry',\n",
       "  'Adams',\n",
       "  'Unknown School',\n",
       "  datetime.date(2012, 11, 22),\n",
       "  Decimal('56000'))]"
      ]
     },
     "execution_count": 6,
     "metadata": {},
     "output_type": "execute_result"
    }
   ],
   "source": [
    "cursor.fetchall()"
   ]
  },
  {
   "cell_type": "code",
   "execution_count": 7,
   "metadata": {},
   "outputs": [
    {
     "data": {
      "text/plain": [
       "<psycopg.Cursor [COMMAND_OK] [IDLE] (host=localhost user=postgres database=analysis) at 0x16b8c20f1c0>"
      ]
     },
     "execution_count": 7,
     "metadata": {},
     "output_type": "execute_result"
    }
   ],
   "source": [
    "# insert row\n",
    "insert_statement = \"insert into teachers (first_name, last_name, school, hire_date, salary) values ('Jerry', 'Adams', 'Unknown School', '2012-11-22', 56000);\"\n",
    "\n",
    "cursor.execute(insert_statement)\n",
    "cursor.execute('commit')"
   ]
  },
  {
   "cell_type": "code",
   "execution_count": 8,
   "metadata": {},
   "outputs": [
    {
     "data": {
      "text/plain": [
       "[(1,\n",
       "  'Janet',\n",
       "  'Smith',\n",
       "  'F.D. Roosevelt HS',\n",
       "  datetime.date(2011, 10, 30),\n",
       "  Decimal('36200')),\n",
       " (2,\n",
       "  'Lee',\n",
       "  'Reynolds',\n",
       "  'F.D. Roosevelt HS',\n",
       "  datetime.date(1993, 5, 22),\n",
       "  Decimal('65000')),\n",
       " (3,\n",
       "  'Samuel',\n",
       "  'Cole',\n",
       "  'Myers Middle School',\n",
       "  datetime.date(2005, 8, 1),\n",
       "  Decimal('43500')),\n",
       " (4,\n",
       "  'Samantha',\n",
       "  'Bush',\n",
       "  'Myers Middle School',\n",
       "  datetime.date(2011, 10, 30),\n",
       "  Decimal('36200')),\n",
       " (5,\n",
       "  'Betty',\n",
       "  'Diaz',\n",
       "  'Myers Middle School',\n",
       "  datetime.date(2005, 8, 30),\n",
       "  Decimal('43500')),\n",
       " (6,\n",
       "  'Kathleen',\n",
       "  'Roush',\n",
       "  'F.D. Roosevelt HS',\n",
       "  datetime.date(2010, 10, 22),\n",
       "  Decimal('38500')),\n",
       " (7,\n",
       "  'Jerry',\n",
       "  'Adams',\n",
       "  'Unknown School',\n",
       "  datetime.date(2012, 11, 22),\n",
       "  Decimal('56000')),\n",
       " (14,\n",
       "  'Jerry',\n",
       "  'Adams',\n",
       "  'Unknown School',\n",
       "  datetime.date(2012, 11, 22),\n",
       "  Decimal('56000')),\n",
       " (15,\n",
       "  'Jerry',\n",
       "  'Adams',\n",
       "  'Unknown School',\n",
       "  datetime.date(2012, 11, 22),\n",
       "  Decimal('56000')),\n",
       " (16,\n",
       "  'Jerry',\n",
       "  'Adams',\n",
       "  'Unknown School',\n",
       "  datetime.date(2012, 11, 22),\n",
       "  Decimal('56000')),\n",
       " (17,\n",
       "  'Jerry',\n",
       "  'Adams',\n",
       "  'Unknown School',\n",
       "  datetime.date(2012, 11, 22),\n",
       "  Decimal('56000')),\n",
       " (18,\n",
       "  'Jerry',\n",
       "  'Adams',\n",
       "  'Unknown School',\n",
       "  datetime.date(2012, 11, 22),\n",
       "  Decimal('56000')),\n",
       " (19,\n",
       "  'Jerry',\n",
       "  'Adams',\n",
       "  'Unknown School',\n",
       "  datetime.date(2012, 11, 22),\n",
       "  Decimal('56000')),\n",
       " (20,\n",
       "  'Jerry',\n",
       "  'Adams',\n",
       "  'Unknown School',\n",
       "  datetime.date(2012, 11, 22),\n",
       "  Decimal('56000')),\n",
       " (21,\n",
       "  'Jerry',\n",
       "  'Adams',\n",
       "  'Unknown School',\n",
       "  datetime.date(2012, 11, 22),\n",
       "  Decimal('56000')),\n",
       " (22,\n",
       "  'Jerry',\n",
       "  'Adams',\n",
       "  'Unknown School',\n",
       "  datetime.date(2012, 11, 22),\n",
       "  Decimal('56000'))]"
      ]
     },
     "execution_count": 8,
     "metadata": {},
     "output_type": "execute_result"
    }
   ],
   "source": [
    "# fetch rows again and display\n",
    "cursor.execute(\"SELECT * FROM teachers;\")\n",
    "cursor.fetchall()"
   ]
  },
  {
   "cell_type": "code",
   "execution_count": 9,
   "metadata": {},
   "outputs": [],
   "source": [
    "cursor.close()"
   ]
  },
  {
   "cell_type": "code",
   "execution_count": 10,
   "metadata": {},
   "outputs": [],
   "source": [
    "conn.close()"
   ]
  },
  {
   "cell_type": "code",
   "execution_count": null,
   "metadata": {},
   "outputs": [],
   "source": []
  }
 ],
 "metadata": {
  "kernelspec": {
   "display_name": "Python 3 (ipykernel)",
   "language": "python",
   "name": "python3"
  },
  "language_info": {
   "codemirror_mode": {
    "name": "ipython",
    "version": 3
   },
   "file_extension": ".py",
   "mimetype": "text/x-python",
   "name": "python",
   "nbconvert_exporter": "python",
   "pygments_lexer": "ipython3",
   "version": "3.10.11"
  }
 },
 "nbformat": 4,
 "nbformat_minor": 4
}
